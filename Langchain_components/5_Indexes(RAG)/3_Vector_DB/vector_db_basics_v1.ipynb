{
 "cells": [
  {
   "cell_type": "markdown",
   "id": "4bffc2e0",
   "metadata": {},
   "source": [
    "# "
   ]
  },
  {
   "cell_type": "code",
   "execution_count": null,
   "id": "37473121",
   "metadata": {},
   "outputs": [],
   "source": [
    "# Import vector stores and embeddings from LangChain\n",
    "\n",
    "from langchain_openai import OpenAIEmbeddings\n",
    "from langchain.vectorstores import Chroma"
   ]
  },
  {
   "cell_type": "code",
   "execution_count": 26,
   "id": "0845a52b",
   "metadata": {},
   "outputs": [],
   "source": [
    "# Creating my own docs using langchain schema \n",
    "from langchain.schema import Document\n",
    "\n",
    "# Create LangChain documents for IPL players\n",
    "\n",
    "doc1 = Document(\n",
    "        page_content=\"Virat Kohli is one of the most successful and consistent batsmen in IPL history. Known for his aggressive batting style and fitness, he has led the Royal Challengers Bangalore in multiple seasons.\",\n",
    "        metadata={\"team\": \"Royal Challengers Bangalore\"}\n",
    "    )\n",
    "doc2 = Document(\n",
    "        page_content=\"Rohit Sharma is the most successful captain in IPL history, leading Mumbai Indians to five titles. He's known for his calm demeanor and ability to play big innings under pressure.\",\n",
    "        metadata={\"team\": \"Mumbai Indians\"}\n",
    "    )\n",
    "doc3 = Document(\n",
    "        page_content=\"MS Dhoni, famously known as Captain Cool, has led Chennai Super Kings to multiple IPL titles. His finishing skills, wicketkeeping, and leadership are legendary.\",\n",
    "        metadata={\"team\": \"Chennai Super Kings\"}\n",
    "    )\n",
    "doc4 = Document(\n",
    "        page_content=\"Jasprit Bumrah is considered one of the best fast bowlers in T20 cricket. Playing for Mumbai Indians, he is known for his yorkers and death-over expertise.\",\n",
    "        metadata={\"team\": \"Mumbai Indians\"}\n",
    "    )\n",
    "doc5 = Document(\n",
    "        page_content=\"Ravindra Jadeja is a dynamic all-rounder who contributes with both bat and ball. Representing Chennai Super Kings, his quick fielding and match-winning performances make him a key player.\",\n",
    "        metadata={\"team\": \"Chennai Super Kings\"}\n",
    "    )\n"
   ]
  },
  {
   "cell_type": "code",
   "execution_count": 27,
   "id": "fa90a315",
   "metadata": {},
   "outputs": [],
   "source": [
    "docs = [doc1, doc2, doc3, doc4, doc5]"
   ]
  },
  {
   "cell_type": "code",
   "execution_count": 28,
   "id": "c5a80c30",
   "metadata": {},
   "outputs": [],
   "source": [
    "from langchain_mistralai import MistralAIEmbeddings\n",
    "from dotenv import load_dotenv\n",
    "load_dotenv()\n",
    "\n",
    "vector_store = Chroma(\n",
    "    embedding_function=MistralAIEmbeddings(),\n",
    "    persist_directory='my_chroma_db',\n",
    "    collection_name='sample'\n",
    ")"
   ]
  },
  {
   "cell_type": "code",
   "execution_count": 29,
   "id": "09bcb36c",
   "metadata": {},
   "outputs": [
    {
     "data": {
      "text/plain": [
       "['771eac67-230a-489b-bc19-00e39382f811',\n",
       " 'dd328950-ad2b-43f7-ba11-f29316407bb9',\n",
       " '23a00ad6-78fd-4387-a86c-16ada073a7ad',\n",
       " 'c74dc615-ee52-4345-b232-3e6890a379e5',\n",
       " 'ba602af1-f203-455d-af29-f4c2b0858260']"
      ]
     },
     "execution_count": 29,
     "metadata": {},
     "output_type": "execute_result"
    }
   ],
   "source": [
    "vector_store.add_documents(docs)"
   ]
  },
  {
   "cell_type": "code",
   "execution_count": 30,
   "id": "a7befe9a",
   "metadata": {},
   "outputs": [
    {
     "data": {
      "text/plain": [
       "{'ids': ['bbdea017-d8f8-4921-b12d-ca87172b0cf9',\n",
       "  'd1d22e01-ab0d-41c9-8964-5a7623424f4c',\n",
       "  '3bc2670f-60bf-49c3-841c-fa49a205c6b1',\n",
       "  '4b696cba-29f9-405f-b5de-51653e4ddc23',\n",
       "  '771eac67-230a-489b-bc19-00e39382f811',\n",
       "  'dd328950-ad2b-43f7-ba11-f29316407bb9',\n",
       "  '23a00ad6-78fd-4387-a86c-16ada073a7ad',\n",
       "  'c74dc615-ee52-4345-b232-3e6890a379e5',\n",
       "  'ba602af1-f203-455d-af29-f4c2b0858260'],\n",
       " 'embeddings': array([[-0.04589844,  0.03179932,  0.05038452, ...,  0.00722122,\n",
       "          0.06002808, -0.00419998],\n",
       "        [-0.0199585 ,  0.00992584,  0.03991699, ...,  0.02134705,\n",
       "          0.04782104, -0.00520325],\n",
       "        [-0.03131104,  0.01285553,  0.05487061, ..., -0.0026722 ,\n",
       "          0.04708862, -0.00823212],\n",
       "        ...,\n",
       "        [-0.0199585 ,  0.00992584,  0.03991699, ...,  0.02134705,\n",
       "          0.04782104, -0.00520325],\n",
       "        [-0.03131104,  0.01285553,  0.05487061, ..., -0.0026722 ,\n",
       "          0.04708862, -0.00823212],\n",
       "        [-0.02215576,  0.01506042,  0.03982544, ...,  0.00563049,\n",
       "          0.01151276, -0.01182556]], shape=(9, 1024)),\n",
       " 'documents': [\"Rohit Sharma is the most successful captain in IPL history, leading Mumbai Indians to five titles. He's known for his calm demeanor and ability to play big innings under pressure.\",\n",
       "  'MS Dhoni, famously known as Captain Cool, has led Chennai Super Kings to multiple IPL titles. His finishing skills, wicketkeeping, and leadership are legendary.',\n",
       "  'Jasprit Bumrah is considered one of the best fast bowlers in T20 cricket. Playing for Mumbai Indians, he is known for his yorkers and death-over expertise.',\n",
       "  'Ravindra Jadeja is a dynamic all-rounder who contributes with both bat and ball. Representing Chennai Super Kings, his quick fielding and match-winning performances make him a key player.',\n",
       "  'Virat Kohli is one of the most successful and consistent batsmen in IPL history. Known for his aggressive batting style and fitness, he has led the Royal Challengers Bangalore in multiple seasons.',\n",
       "  \"Rohit Sharma is the most successful captain in IPL history, leading Mumbai Indians to five titles. He's known for his calm demeanor and ability to play big innings under pressure.\",\n",
       "  'MS Dhoni, famously known as Captain Cool, has led Chennai Super Kings to multiple IPL titles. His finishing skills, wicketkeeping, and leadership are legendary.',\n",
       "  'Jasprit Bumrah is considered one of the best fast bowlers in T20 cricket. Playing for Mumbai Indians, he is known for his yorkers and death-over expertise.',\n",
       "  'Ravindra Jadeja is a dynamic all-rounder who contributes with both bat and ball. Representing Chennai Super Kings, his quick fielding and match-winning performances make him a key player.'],\n",
       " 'uris': None,\n",
       " 'included': ['embeddings', 'documents', 'metadatas'],\n",
       " 'data': None,\n",
       " 'metadatas': [{'team': 'Mumbai Indians'},\n",
       "  {'team': 'Chennai Super Kings'},\n",
       "  {'team': 'Mumbai Indians'},\n",
       "  {'team': 'Chennai Super Kings'},\n",
       "  {'team': 'Royal Challengers Bangalore'},\n",
       "  {'team': 'Mumbai Indians'},\n",
       "  {'team': 'Chennai Super Kings'},\n",
       "  {'team': 'Mumbai Indians'},\n",
       "  {'team': 'Chennai Super Kings'}]}"
      ]
     },
     "execution_count": 30,
     "metadata": {},
     "output_type": "execute_result"
    }
   ],
   "source": [
    "vector_store.get(include=['embeddings','documents', 'metadatas'])"
   ]
  },
  {
   "cell_type": "code",
   "execution_count": 31,
   "id": "c4509c17",
   "metadata": {},
   "outputs": [
    {
     "data": {
      "text/plain": [
       "[Document(metadata={'team': 'Mumbai Indians'}, page_content='Jasprit Bumrah is considered one of the best fast bowlers in T20 cricket. Playing for Mumbai Indians, he is known for his yorkers and death-over expertise.'),\n",
       " Document(metadata={'team': 'Mumbai Indians'}, page_content='Jasprit Bumrah is considered one of the best fast bowlers in T20 cricket. Playing for Mumbai Indians, he is known for his yorkers and death-over expertise.')]"
      ]
     },
     "execution_count": 31,
     "metadata": {},
     "output_type": "execute_result"
    }
   ],
   "source": [
    "# search documents\n",
    "vector_store.similarity_search(\n",
    "    query='Who among these are a bowler?',\n",
    "    k=2\n",
    ")"
   ]
  },
  {
   "cell_type": "code",
   "execution_count": 32,
   "id": "570c45a8",
   "metadata": {},
   "outputs": [
    {
     "data": {
      "text/plain": [
       "[(Document(metadata={'team': 'Mumbai Indians'}, page_content='Jasprit Bumrah is considered one of the best fast bowlers in T20 cricket. Playing for Mumbai Indians, he is known for his yorkers and death-over expertise.'),\n",
       "  0.4631655514240265),\n",
       " (Document(metadata={'team': 'Mumbai Indians'}, page_content='Jasprit Bumrah is considered one of the best fast bowlers in T20 cricket. Playing for Mumbai Indians, he is known for his yorkers and death-over expertise.'),\n",
       "  0.4631655514240265)]"
      ]
     },
     "execution_count": 32,
     "metadata": {},
     "output_type": "execute_result"
    }
   ],
   "source": [
    "vector_store.similarity_search_with_score(\n",
    "    query='Who among these are a bowler?',\n",
    "    k=2\n",
    ")"
   ]
  },
  {
   "cell_type": "code",
   "execution_count": 33,
   "id": "6a85c4fb",
   "metadata": {},
   "outputs": [
    {
     "data": {
      "text/plain": [
       "[(Document(metadata={'team': 'Chennai Super Kings'}, page_content='Ravindra Jadeja is a dynamic all-rounder who contributes with both bat and ball. Representing Chennai Super Kings, his quick fielding and match-winning performances make him a key player.'),\n",
       "  0.6508620381355286),\n",
       " (Document(metadata={'team': 'Chennai Super Kings'}, page_content='Ravindra Jadeja is a dynamic all-rounder who contributes with both bat and ball. Representing Chennai Super Kings, his quick fielding and match-winning performances make him a key player.'),\n",
       "  0.6508620381355286),\n",
       " (Document(metadata={'team': 'Chennai Super Kings'}, page_content='MS Dhoni, famously known as Captain Cool, has led Chennai Super Kings to multiple IPL titles. His finishing skills, wicketkeeping, and leadership are legendary.'),\n",
       "  0.6688112616539001),\n",
       " (Document(metadata={'team': 'Chennai Super Kings'}, page_content='MS Dhoni, famously known as Captain Cool, has led Chennai Super Kings to multiple IPL titles. His finishing skills, wicketkeeping, and leadership are legendary.'),\n",
       "  0.6688112616539001)]"
      ]
     },
     "execution_count": 33,
     "metadata": {},
     "output_type": "execute_result"
    }
   ],
   "source": [
    "# meta-data filtering\n",
    "vector_store.similarity_search_with_score(\n",
    "    query=\"\",\n",
    "    filter={\"team\": \"Chennai Super Kings\"}\n",
    ")"
   ]
  },
  {
   "cell_type": "code",
   "execution_count": 34,
   "id": "decffd0e",
   "metadata": {},
   "outputs": [
    {
     "data": {
      "text/plain": [
       "[]"
      ]
     },
     "execution_count": 34,
     "metadata": {},
     "output_type": "execute_result"
    }
   ],
   "source": [
    "# meta-data filtering\n",
    "vector_store.similarity_search_with_score(\n",
    "    query=\"\",\n",
    "    filter={\"team\": \"kings xi punjab\"}\n",
    ")"
   ]
  },
  {
   "cell_type": "code",
   "execution_count": null,
   "id": "d18ffa9c",
   "metadata": {},
   "outputs": [],
   "source": [
    "# update documents\n",
    "updated_doc1 = Document(\n",
    "    page_content=\"Virat Kohli, the former captain of Royal Challengers Bangalore (RCB), is renowned for his aggressive leadership and consistent batting performances. He holds the record for the most runs in IPL history, including multiple centuries in a single season. Despite RCB not winning an IPL title under his captaincy, Kohli's passion and fitness set a benchmark for the league. His ability to chase targets and anchor innings has made him one of the most dependable players in T20 cricket.\",\n",
    "    metadata={\"team\": \"Royal Challengers Bangalore\"}\n",
    ")\n",
    "\n",
    "vector_store.update_document(document_id='b2826835-034a-4af4-bb94-9f34333ffaf6', document=updated_doc1)\n"
   ]
  },
  {
   "cell_type": "code",
   "execution_count": null,
   "id": "3f7f7640",
   "metadata": {},
   "outputs": [
    {
     "data": {
      "text/plain": [
       "{'ids': ['b2826835-034a-4af4-bb94-9f34333ffaf6',\n",
       "  'bbdea017-d8f8-4921-b12d-ca87172b0cf9',\n",
       "  'd1d22e01-ab0d-41c9-8964-5a7623424f4c',\n",
       "  '3bc2670f-60bf-49c3-841c-fa49a205c6b1',\n",
       "  '4b696cba-29f9-405f-b5de-51653e4ddc23'],\n",
       " 'embeddings': array([[-0.03393555,  0.01763916,  0.02192688, ..., -0.00991058,\n",
       "          0.04833984, -0.00116348],\n",
       "        [-0.04589844,  0.03179932,  0.05038452, ...,  0.00722122,\n",
       "          0.06002808, -0.00419998],\n",
       "        [-0.0199585 ,  0.00992584,  0.03991699, ...,  0.02134705,\n",
       "          0.04782104, -0.00520325],\n",
       "        [-0.03131104,  0.01285553,  0.05487061, ..., -0.0026722 ,\n",
       "          0.04708862, -0.00823212],\n",
       "        [-0.02215576,  0.01506042,  0.03982544, ...,  0.00563049,\n",
       "          0.01151276, -0.01182556]], shape=(5, 1024)),\n",
       " 'documents': [\"Virat Kohli, the former captain of Royal Challengers Bangalore (RCB), is renowned for his aggressive leadership and consistent batting performances. He holds the record for the most runs in IPL history, including multiple centuries in a single season. Despite RCB not winning an IPL title under his captaincy, Kohli's passion and fitness set a benchmark for the league. His ability to chase targets and anchor innings has made him one of the most dependable players in T20 cricket.\",\n",
       "  \"Rohit Sharma is the most successful captain in IPL history, leading Mumbai Indians to five titles. He's known for his calm demeanor and ability to play big innings under pressure.\",\n",
       "  'MS Dhoni, famously known as Captain Cool, has led Chennai Super Kings to multiple IPL titles. His finishing skills, wicketkeeping, and leadership are legendary.',\n",
       "  'Jasprit Bumrah is considered one of the best fast bowlers in T20 cricket. Playing for Mumbai Indians, he is known for his yorkers and death-over expertise.',\n",
       "  'Ravindra Jadeja is a dynamic all-rounder who contributes with both bat and ball. Representing Chennai Super Kings, his quick fielding and match-winning performances make him a key player.'],\n",
       " 'uris': None,\n",
       " 'included': ['embeddings', 'documents', 'metadatas'],\n",
       " 'data': None,\n",
       " 'metadatas': [{'team': 'Royal Challengers Bangalore'},\n",
       "  {'team': 'Mumbai Indians'},\n",
       "  {'team': 'Chennai Super Kings'},\n",
       "  {'team': 'Mumbai Indians'},\n",
       "  {'team': 'Chennai Super Kings'}]}"
      ]
     },
     "execution_count": 21,
     "metadata": {},
     "output_type": "execute_result"
    }
   ],
   "source": [
    "# view documents\n",
    "vector_store.get(include=['embeddings','documents', 'metadatas'])"
   ]
  },
  {
   "cell_type": "code",
   "execution_count": null,
   "id": "83634093",
   "metadata": {},
   "outputs": [],
   "source": [
    "# delete document\n",
    "vector_store.delete(ids=['b2826835-034a-4af4-bb94-9f34333ffaf6'])"
   ]
  },
  {
   "cell_type": "code",
   "execution_count": null,
   "id": "4d785b92",
   "metadata": {},
   "outputs": [
    {
     "data": {
      "text/plain": [
       "{'ids': ['bbdea017-d8f8-4921-b12d-ca87172b0cf9',\n",
       "  'd1d22e01-ab0d-41c9-8964-5a7623424f4c',\n",
       "  '3bc2670f-60bf-49c3-841c-fa49a205c6b1',\n",
       "  '4b696cba-29f9-405f-b5de-51653e4ddc23'],\n",
       " 'embeddings': array([[-0.04589844,  0.03179932,  0.05038452, ...,  0.00722122,\n",
       "          0.06002808, -0.00419998],\n",
       "        [-0.0199585 ,  0.00992584,  0.03991699, ...,  0.02134705,\n",
       "          0.04782104, -0.00520325],\n",
       "        [-0.03131104,  0.01285553,  0.05487061, ..., -0.0026722 ,\n",
       "          0.04708862, -0.00823212],\n",
       "        [-0.02215576,  0.01506042,  0.03982544, ...,  0.00563049,\n",
       "          0.01151276, -0.01182556]], shape=(4, 1024)),\n",
       " 'documents': [\"Rohit Sharma is the most successful captain in IPL history, leading Mumbai Indians to five titles. He's known for his calm demeanor and ability to play big innings under pressure.\",\n",
       "  'MS Dhoni, famously known as Captain Cool, has led Chennai Super Kings to multiple IPL titles. His finishing skills, wicketkeeping, and leadership are legendary.',\n",
       "  'Jasprit Bumrah is considered one of the best fast bowlers in T20 cricket. Playing for Mumbai Indians, he is known for his yorkers and death-over expertise.',\n",
       "  'Ravindra Jadeja is a dynamic all-rounder who contributes with both bat and ball. Representing Chennai Super Kings, his quick fielding and match-winning performances make him a key player.'],\n",
       " 'uris': None,\n",
       " 'included': ['embeddings', 'documents', 'metadatas'],\n",
       " 'data': None,\n",
       " 'metadatas': [{'team': 'Mumbai Indians'},\n",
       "  {'team': 'Chennai Super Kings'},\n",
       "  {'team': 'Mumbai Indians'},\n",
       "  {'team': 'Chennai Super Kings'}]}"
      ]
     },
     "execution_count": 23,
     "metadata": {},
     "output_type": "execute_result"
    }
   ],
   "source": [
    "# view documents\n",
    "vector_store.get(include=['embeddings','documents', 'metadatas'])"
   ]
  }
 ],
 "metadata": {
  "kernelspec": {
   "display_name": "venv",
   "language": "python",
   "name": "python3"
  },
  "language_info": {
   "codemirror_mode": {
    "name": "ipython",
    "version": 3
   },
   "file_extension": ".py",
   "mimetype": "text/x-python",
   "name": "python",
   "nbconvert_exporter": "python",
   "pygments_lexer": "ipython3",
   "version": "3.13.3"
  }
 },
 "nbformat": 4,
 "nbformat_minor": 5
}
